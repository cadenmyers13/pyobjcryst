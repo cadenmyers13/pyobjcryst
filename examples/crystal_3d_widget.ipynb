{
 "cells": [
  {
   "cell_type": "markdown",
   "id": "0",
   "metadata": {},
   "source": [
    "## Creating a crystal from a CIF & display it in 3D\n",
    "In this short example you can open a CIF file directly from a filename or an URL, and display it in 3D.\n",
    "\n",
    "You can also play with the spacegroup and see how that changes the crystal structure.\n",
    "\n",
    "*Note: this requires installing `ipywidgets` and `py3Dmol`*"
   ]
  },
  {
   "cell_type": "code",
   "execution_count": null,
   "id": "1",
   "metadata": {
    "tags": []
   },
   "outputs": [],
   "source": [
    "from pyobjcryst.crystal import *\n",
    "from pyobjcryst.atom import Atom\n",
    "from pyobjcryst.scatteringpower import ScatteringPowerAtom\n",
    "from math import pi"
   ]
  },
  {
   "cell_type": "markdown",
   "id": "2",
   "metadata": {},
   "source": [
    "### From IUCr journals"
   ]
  },
  {
   "cell_type": "code",
   "execution_count": null,
   "id": "3",
   "metadata": {
    "tags": []
   },
   "outputs": [],
   "source": [
    "c = create_crystal_from_cif(\"http://scripts.iucr.org/cgi-bin/sendcif?dt3034sup1\",\n",
    "                            oneScatteringPowerPerElement=True,\n",
    "                            connectAtoms=True)\n",
    "print(c.GetFormula())\n",
    "c.widget_3d()"
   ]
  },
  {
   "cell_type": "markdown",
   "id": "4",
   "metadata": {},
   "source": [
    "### From the Crystallography Open Database"
   ]
  },
  {
   "cell_type": "code",
   "execution_count": null,
   "id": "5",
   "metadata": {},
   "outputs": [],
   "source": [
    "c1 = create_crystal_from_cif(\"http://crystallography.net/cod/4506702.cif\",\n",
    "                            oneScatteringPowerPerElement=True,\n",
    "                            connectAtoms=True)\n",
    "print(c1.GetFormula())\n",
    "c1.widget_3d()"
   ]
  },
  {
   "cell_type": "markdown",
   "id": "6",
   "metadata": {},
   "source": [
    "### Create a Crystal structure and change the spacegroup"
   ]
  },
  {
   "cell_type": "code",
   "execution_count": null,
   "id": "7",
   "metadata": {},
   "outputs": [],
   "source": [
    "c = Crystal(5, 5, 5, pi/2, pi/2, pi/2, \"P1\")\n",
    "cu = ScatteringPowerAtom(\"Cu\", \"Cu\")\n",
    "c.AddScatteringPower(cu)\n",
    "c.AddScatterer(Atom(0,0,0, \"Cu\", cu))\n",
    "c.widget_3d(extra_opacity=0.1, extra_dist=2)"
   ]
  },
  {
   "cell_type": "code",
   "execution_count": null,
   "id": "8",
   "metadata": {},
   "outputs": [],
   "source": [
    "# Change the spacegroup and update the display\n",
    "c.ChangeSpaceGroup(\"Fm-3m\")\n",
    "c.UpdateDisplay()"
   ]
  }
 ],
 "metadata": {
  "kernelspec": {
   "display_name": "Python 3 (ipykernel)",
   "language": "python",
   "name": "python3"
  },
  "language_info": {
   "codemirror_mode": {
    "name": "ipython",
    "version": 3
   },
   "file_extension": ".py",
   "mimetype": "text/x-python",
   "name": "python",
   "nbconvert_exporter": "python",
   "pygments_lexer": "ipython3",
   "version": "3.12.3"
  }
 },
 "nbformat": 4,
 "nbformat_minor": 5
}
