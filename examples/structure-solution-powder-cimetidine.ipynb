{
 "cells": [
  {
   "cell_type": "markdown",
   "metadata": {},
   "source": [
    "## Cimetidine tutorial: indexing, spacegroup determination & structure solution\n",
    "In this notebook, you can:\n",
    "* Load the powder diffraction data and create the PowderPattern object\n",
    "* Find the diffraction peaks and index them (determine the unit cell)\n",
    "* Perform a profile fit to optimise the background and reflection profiles\n",
    "* Determine the spacegroup\n",
    "* Add a molecule to describe the contents of the Crystal structure\n",
    "* Solve the Crystal structure using a Monte-Carlo/Parallel tempering algorithm\n",
    "* Save the best result to a CIF file and to Fox .xmlgz format\n",
    "\n",
    "Notes:\n",
    "* This is an *ideal* case for structure solution from powder diffraction - a clean powder diffraction data easily indexed, an unambiguous spacegroup, and a relatively simple structure.\n",
    "* It is important to follow the steps relatively linearly and avoid going back to previous cells until you know better. For example to avoid adding multiple times Scatterer/Molecule objects in the crystal structure, or multiple crystalline phases to the powder pattern with the same crystal, etc..."
   ]
  },
  {
   "cell_type": "markdown",
   "metadata": {},
   "source": [
    "### Imports"
   ]
  },
  {
   "cell_type": "code",
   "execution_count": null,
   "metadata": {},
   "outputs": [],
   "source": [
    "# 'widget' allows live update and works in both classical notebooks and jupyter-lab.\n",
    "# Otherwise 'notebook', 'ipympl', 'inline' can be used\n",
    "%matplotlib widget\n",
    "\n",
    "import os\n",
    "import pyobjcryst\n",
    "import numpy as np\n",
    "import matplotlib.pyplot as plt\n",
    "from pyobjcryst.crystal import *\n",
    "from pyobjcryst.powderpattern import *\n",
    "from pyobjcryst.indexing import *\n",
    "from pyobjcryst.molecule import *\n",
    "from pyobjcryst.globaloptim import MonteCarlo\n",
    "from pyobjcryst.io import xml_cryst_file_save_global"
   ]
  },
  {
   "cell_type": "markdown",
   "metadata": {},
   "source": [
    "### Create powder pattern object, download data if necessary"
   ]
  },
  {
   "cell_type": "code",
   "execution_count": null,
   "metadata": {},
   "outputs": [],
   "source": [
    "p = PowderPattern()\n",
    "if not os.path.exists(\"cime.dat\"):\n",
    "    os.system(\"curl -O https://raw.githubusercontent.com/vincefn/objcryst/master/Fox/example/tutorial-cimetidine/cime.dat\")\n",
    "p.ImportPowderPatternFullprof(\"cime.dat\")\n",
    "p.SetWavelength(1.52904)\n",
    "\n",
    "p.plot()"
   ]
  },
  {
   "cell_type": "markdown",
   "metadata": {},
   "source": [
    "### Find peaks & index the reflections\n",
    "In this case the peaks are automatically found without any parasitic phase.\n",
    "\n",
    "And the unit cell is also indexed without any ambiguity. This uses the dichotomy in volume approach (Louër & Boultif).\n",
    "\n",
    "... It is not always that easy !"
   ]
  },
  {
   "cell_type": "code",
   "execution_count": null,
   "metadata": {},
   "outputs": [],
   "source": [
    "# Index\n",
    "pl = p.FindPeaks(1.5, -1, 1000)\n",
    "if len(pl) > 20:\n",
    "    pl.resize(20)  # Only keep 20 peaks\n",
    "for peak in pl:\n",
    "    print(peak)\n",
    "\n",
    "ex = quick_index(pl)\n",
    "\n",
    "print(\"Solutions:\")\n",
    "for s in ex.GetSolutions():\n",
    "    print(s)"
   ]
  },
  {
   "cell_type": "markdown",
   "metadata": {},
   "source": [
    "### Create a crystal phase using the indexed unit cell"
   ]
  },
  {
   "cell_type": "code",
   "execution_count": null,
   "metadata": {},
   "outputs": [],
   "source": [
    "uc = ex.GetSolutions()[0][0].DirectUnitCell()\n",
    "c = pyobjcryst.crystal.Crystal(uc[0], uc[1], uc[2], uc[3], uc[4], uc[5], \"P1\")\n",
    "pdiff = p.AddPowderPatternDiffraction(c)\n",
    "\n",
    "# Plot with indexing in new figure\n",
    "p.plot(diff=False,fig=None,hkl=True)"
   ]
  },
  {
   "cell_type": "markdown",
   "metadata": {},
   "source": [
    "### Fit the profile and background\n",
    "We use a maximum sin(theta)/lambda because we don't really need high angle/high resolution data.\n",
    "\n",
    "This will go faster and is more reliable for spacegroup indexing and structure solution."
   ]
  },
  {
   "cell_type": "code",
   "execution_count": null,
   "metadata": {},
   "outputs": [],
   "source": [
    "p.SetMaxSinThetaOvLambda(0.3)\n",
    "p.quick_fit_profile(auto_background=True,plot=False, init_profile=True,verbose=True)\n",
    "p.quick_fit_profile(plot=False, init_profile=False, asym=True, displ_transl=True, verbose=False)\n",
    "\n",
    "# Plot in new figure\n",
    "p.plot(diff=True, fig=None, hkl=True)\n",
    "print(\"Fit result: Rw=%6.2f%% Chi2=%10.2f  GoF=%8.2f  LLK=%10.3f\" %\n",
    "      (p.rw * 100, p.chi2, p.chi2/p.GetNbPointUsed(), p.llk))"
   ]
  },
  {
   "cell_type": "markdown",
   "metadata": {},
   "source": [
    "### Find the spacegroup\n",
    "The SpaceGroupExplorer can be used to find the optimal spacegroup. \n",
    "\n",
    "What `RunAll()` does is try all spacegroups and settings which are compatible with the unit cell (in this case all monoclinic and triclinic), and perform a profile fit (Le Bail only, we don't refine profile parameters or background since these parameters should be OK).\n",
    "\n",
    "From this several values are extracted for each spacegroup setting:\n",
    "* **Rw** - the standard full-profile weighted R factor $R_{wp}$\n",
    "* **GoF**: the chi2 (full profile  $\\chi^2=\\Sigma\\frac{(obs-calc)^2}{\\sigma^2}$) divided by the number of points used\n",
    "* **nGoF**: this is the Goodness-of-Fit, but computed on integration intervals defined by P1 reflections, and then multipled by the number of reflections used divided by the number of reflections for the P1 spacegroup. This is more discriminating and allows to put forward spacegroups which yield a good fit with more extinctions.\n",
    "* **reflections** is the number of reflections actually taken into account for this spacegroup up to the maximum sin(theta)/lambda\n",
    "* **extinct446** gives the number of extinct reflections for 0<=H<=4 0<=K<=4 0<=L<=6 (which is used internally as a unique fingerprint for the extinctions)\n",
    "\n",
    "Some C++ verbose output does not appear here but will be in the jupyter server log if you see it.\n",
    "\n",
    "The results are sorting by ascending **nGOF**\n"
   ]
  },
  {
   "cell_type": "code",
   "execution_count": null,
   "metadata": {},
   "outputs": [],
   "source": [
    "p.SetMaxSinThetaOvLambda(0.2)  # Important for stability of profile fit. And faster !\n",
    "spgex = SpaceGroupExplorer(pdiff)\n",
    "\n",
    "# NB:verbose C++ output does not appear in a notebook\n",
    "spgex.RunAll(keep_best=True, update_display=False, fitprofile_p1=False)\n",
    "\n",
    "for sol in spgex.GetScores():\n",
    "    #if sol.nGoF > 4 * spgex.GetScores()[0].nGoF:\n",
    "    if sol.GoF <= 2 * spgex.GetScores()[0].GoF:\n",
    "        print(sol)\n",
    "\n",
    "print(\"Chosen spacegroup (smallest nGoF): \", c.GetSpaceGroup())\n",
    "\n",
    "# Updated plot with optimal spacegroup\n",
    "p.plot(diff=True, fig=None, hkl=True, reset=True)"
   ]
  },
  {
   "cell_type": "markdown",
   "metadata": {},
   "source": [
    "### Add Cimetidine molecule to the crystal structure\n",
    "This is imported from a Fenske-Hall z-matrix, downloaded as needed.\n",
    "\n",
    "We can also look at options, and disable the Dynamical Occupancy Correction, because we don't expect the molecule atoms to be overlapping with each other."
   ]
  },
  {
   "cell_type": "code",
   "execution_count": null,
   "metadata": {},
   "outputs": [],
   "source": [
    "if not os.path.exists(\"cime.fhz\"):\n",
    "    os.system(\"curl -O https://raw.githubusercontent.com/vincefn/objcryst/master/Fox/example/tutorial-cimetidine/cime.fhz\")\n",
    "\n",
    "# This will automatically add the Molecule to the Crystal object\n",
    "m = ImportFenskeHallZMatrix(c,\"cime.fhz\")\n",
    "print(\"Crystal Formula:\", c.GetFormula())\n",
    "print()\n",
    "\n",
    "# List the options to see which are available\n",
    "for i in range(c.GetNbOption()):\n",
    "    o = c.GetOption(i)\n",
    "    print(\"Option #%d: %s = %s\"% (i, o.GetName(), o.GetChoiceName(o.GetChoice())))\n",
    "    for j in range (o.GetNbChoice()):\n",
    "        print(\"   Choice %d: %s\" %(j, o.GetChoiceName(j)))\n",
    "\n",
    "\n",
    "c.GetOption(1).SetChoice(0)"
   ]
  },
  {
   "cell_type": "markdown",
   "metadata": {},
   "source": [
    "### Create a MonteCarlo object and add objects (crystal, powder pattern) for optimisation"
   ]
  },
  {
   "cell_type": "code",
   "execution_count": null,
   "metadata": {},
   "outputs": [],
   "source": [
    "mc = MonteCarlo()\n",
    "mc.AddRefinableObj(c)\n",
    "mc.AddRefinableObj(p)"
   ]
  },
  {
   "cell_type": "markdown",
   "metadata": {},
   "source": [
    "### Disable profile fitting before Monte-Carlo\n",
    "..or else the crystal structure will not be optimised\n",
    "\n",
    "Note that the following display will be live-updated during the optimisation done below (the last plot is alwasy updated)."
   ]
  },
  {
   "cell_type": "code",
   "execution_count": null,
   "metadata": {},
   "outputs": [],
   "source": [
    "pdiff.SetExtractionMode(False)\n",
    "p.FitScaleFactorForRw() # for a better initial display\n",
    "p.plot(fig=None,diff=False,hkl=True)"
   ]
  },
  {
   "cell_type": "markdown",
   "metadata": {},
   "source": [
    "### Display the 3D crystal structure\n",
    "*Note: this requires installing `ipywidgets` and `py3Dmol` (as of 2021/05 the conda-forge version is obsolete, so just install using pip). Otherwise You will just get a warning message*\n",
    "\n",
    "This will be updated live during the optimisation, and also when using `RestoreParamSet()` to restore some specific solutions (and generally everytime the underlying Crystal's `UpdateDisplay()` function is called). Just scroll back to see what is being done in the widget.\n",
    "\n",
    "The `display()` is only really necessary to make sure the widget appears in the notebook. In fact if `c.widget_3d()` is the *last* command in the notebook cell, the display is done automatically. See the ipywidgets documentation if you want to understand this in more details.\n",
    "\n",
    "Note that bonds may disappear during optimisation, because they are automatically assigned by the javascript viewer, which is quite strict about allowed distances. In the final solution some bonds in the middle of the chain are often missing, though you can see the atoms are reasonably close. But rest assured that any bond defined in the object still exists as defined in pyobjcryst !"
   ]
  },
  {
   "cell_type": "code",
   "execution_count": null,
   "metadata": {},
   "outputs": [],
   "source": [
    "display(c.widget_3d())"
   ]
  },
  {
   "cell_type": "markdown",
   "metadata": {},
   "source": [
    "### Run multiple optimisations\n",
    "We also enable the automatic least squares every 150k trials, which allows a better convergence\n",
    "\n",
    "We perform 3 runs, each of 1 million trials using parallel tempering, with default parameters (which should be adequate for all problems). Normally for this structure it would be better to use 2 millions trials so that the correct solution is found during almost every run.\n",
    "\n",
    "Each run starts from a randomised configuration."
   ]
  },
  {
   "cell_type": "code",
   "execution_count": null,
   "metadata": {},
   "outputs": [],
   "source": [
    "mc.GetOption(\"Automatic Least Squares Refinement\").SetChoice(2)\n",
    "print(\"LSQ option: \", mc.GetOption(\"Automatic Least Squares Refinement\").GetChoiceName(2))\n",
    "\n",
    "# 3D structure view which will be live-updated with the best\n",
    "# configuration of the current run\n",
    "display(c.widget_3d())\n",
    "\n",
    "# Small widget to see the progress of the optimisation, with the current run\n",
    "# best log-likelihood, the run number and remaining number of trials.\n",
    "display(mc.widget())\n",
    "\n",
    "# The powder pattern plot a few cells above should also be updated for each run best solution\n",
    "mc.MultiRunOptimize(nb_run=3, nb_step=1e6)\n",
    "print(\"Final LLK: %.2f\" % mc.GetLogLikelihood())"
   ]
  },
  {
   "cell_type": "markdown",
   "metadata": {},
   "source": [
    "### List solutions\n",
    "All solutions are stored in a \"Parameter Set\" which can be restored (assuming that the objects - crystal structure and powder pattern are not altered e.g. by changing the list of atoms, the profile, or the fixed parameters etc...).\n",
    "\n",
    "This will only record changes of parameters such as atom coordinates, but will not record other changes such as a different spacegroup, or a change of the Scatterers (number of atoms or molecules) inside a Crystal. It can only be used to browse results obtained at the end of `MultiRunOptimize()`.\n",
    "\n",
    "At the end of the optimisation the best solution is automatically restored."
   ]
  },
  {
   "cell_type": "code",
   "execution_count": null,
   "metadata": {},
   "outputs": [],
   "source": [
    "for i in range(mc.GetNbParamSet()):\n",
    "    idx = mc.GetParamSetIndex(i)\n",
    "    cost = mc.GetParamSetCost(i)\n",
    "    name = mc.GetFullRefinableObj().GetParamSetName(idx)\n",
    "    print(\"%3d: LLK=%10.2f, name=%s\"%(idx, cost, name))"
   ]
  },
  {
   "cell_type": "markdown",
   "metadata": {},
   "source": [
    "### Restore a chosen solution (set of parameters)\n",
    "Restoring a solution will also update the 3D crystal view above."
   ]
  },
  {
   "cell_type": "code",
   "execution_count": null,
   "metadata": {},
   "outputs": [],
   "source": [
    "p.plot(fig=None, diff=True)\n",
    "mc.RestoreParamSet(3, update_display=True)"
   ]
  },
  {
   "cell_type": "markdown",
   "metadata": {},
   "source": [
    "### Save results to CIF and Fox (.xmlgz) formats"
   ]
  },
  {
   "cell_type": "code",
   "execution_count": null,
   "metadata": {},
   "outputs": [],
   "source": [
    "# Save result so it can be opened by Fox\n",
    "xml_cryst_file_save_global('result.xmlgz')\n",
    "# Also export to the CIF format\n",
    "c.CIFOutput(\"result.cif\")"
   ]
  }
 ],
 "metadata": {
  "kernelspec": {
   "display_name": "Python 3 (ipykernel)",
   "language": "python",
   "name": "python3"
  },
  "language_info": {
   "codemirror_mode": {
    "name": "ipython",
    "version": 3
   },
   "file_extension": ".py",
   "mimetype": "text/x-python",
   "name": "python",
   "nbconvert_exporter": "python",
   "pygments_lexer": "ipython3",
   "version": "3.12.3"
  }
 },
 "nbformat": 4,
 "nbformat_minor": 4
}
