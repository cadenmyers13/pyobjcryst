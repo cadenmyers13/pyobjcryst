{
 "cells": [
  {
   "cell_type": "code",
   "execution_count": null,
   "id": "0",
   "metadata": {},
   "outputs": [],
   "source": [
    "import numpy as np\n",
    "import matplotlib.pyplot as plt\n",
    "from pyobjcryst.crystal import *\n",
    "from pyobjcryst.diffractiondatasinglecrystal import *\n",
    "\n",
    "# Example structure and data from http://crystallography.net/cod/1550649.html\n",
    "c = create_crystal_from_cif(\"http://crystallography.net/cod/2016712.cif\")\n",
    "d = create_singlecrystaldata_from_cif(\"http://crystallography.net/cod/2016712.hkl\", c)"
   ]
  },
  {
   "cell_type": "code",
   "execution_count": null,
   "id": "1",
   "metadata": {},
   "outputs": [],
   "source": [
    "s = d.GetSinThetaOverLambda()\n",
    "obs = d.GetIobs()\n",
    "calc = d.GetIcalc()\n",
    "\n",
    "plt.figure(figsize=(12,6))\n",
    "plt.plot(s, obs, 'k', label='Iobs')\n",
    "plt.plot(s, calc, 'r', label='Icalc')\n",
    "plt.plot(s, calc - obs - 0.05 * obs.max(), 'g', label='diff')\n",
    "plt.legend()\n",
    "plt.tight_layout()"
   ]
  },
  {
   "cell_type": "code",
   "execution_count": null,
   "id": "2",
   "metadata": {},
   "outputs": [],
   "source": []
  }
 ],
 "metadata": {
  "kernelspec": {
   "display_name": "Python 3 (ipykernel)",
   "language": "python",
   "name": "python3"
  },
  "language_info": {
   "codemirror_mode": {
    "name": "ipython",
    "version": 3
   },
   "file_extension": ".py",
   "mimetype": "text/x-python",
   "name": "python",
   "nbconvert_exporter": "python",
   "pygments_lexer": "ipython3",
   "version": "3.12.3"
  }
 },
 "nbformat": 4,
 "nbformat_minor": 5
}
