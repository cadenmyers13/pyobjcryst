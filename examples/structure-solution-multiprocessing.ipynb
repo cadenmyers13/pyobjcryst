{
 "cells": [
  {
   "cell_type": "markdown",
   "metadata": {},
   "source": [
    "## Advanced structure solution: parallel process & testing multiple configurations\n",
    "You should first try the cimetidine structure solution notebook before this one.\n",
    "\n",
    "In this notebook, you can try solving a structure while:\n",
    "* testing different spacegroups and adapting the crystal contents (number of independent molecules)\n",
    "* using multiple parallel process to go faster\n",
    "\n",
    "This is an example of meta-structure solution, 'meta' meaning that instead if having a single description for the contents of you crystal (spacegroup, number of molecules, atoms or polyhedra), you can try any different combinations using python. It requires a little programming but can be very powerful when several choices for the configuration of your structure are possible.\n",
    "\n",
    "For this to work you need to install the following packages:\n",
    "* `multiprocess`\n",
    "* `ipywidgets` and `py3dmol` (optional)"
   ]
  },
  {
   "cell_type": "code",
   "execution_count": null,
   "metadata": {
    "tags": []
   },
   "outputs": [],
   "source": [
    "%matplotlib widget\n",
    "\n",
    "import os\n",
    "import sys\n",
    "import io\n",
    "import timeit\n",
    "\n",
    "# Note: we need 'multiprocess' instead of standard multiprocessing because of the\n",
    "# following issue (specific to ipython or notebooks):\n",
    "# https://bugs.python.org/issue25053\n",
    "# https://stackoverflow.com/questions/41385708/multiprocessing-example-giving-attributeerror\n",
    "#\n",
    "# In a python script (not in ipython or a notebook) multiprocessing could be used instead\n",
    "try:\n",
    "    from multiprocess import Pool, current_process\n",
    "except ImportError:\n",
    "    print(\"Please install `multiprocess` using 'pip', 'conda' or 'mamba' to run this notebook\")\n",
    "    print()\n",
    "    sys.exit()\n",
    "\n",
    "import pyobjcryst\n",
    "import numpy as np\n",
    "import matplotlib.pyplot as plt\n",
    "from pyobjcryst.crystal import *\n",
    "from pyobjcryst.powderpattern import *\n",
    "from pyobjcryst.indexing import *\n",
    "from pyobjcryst.molecule import *\n",
    "from pyobjcryst.globaloptim import MonteCarlo\n",
    "from pyobjcryst.io import xml_cryst_file_save_global\n",
    "try:\n",
    "    import ipywidgets as widgets\n",
    "except ImportError:\n",
    "    widgets = None\n",
    "\n",
    "try:\n",
    "    # Get the real number of processor cores available - requires psutil\n",
    "    # os.sched_getaffinity is only available on some *nix platforms\n",
    "    import psutil\n",
    "    nproc = len(os.sched_getaffinity(0)) * psutil.cpu_count(logical=False) // psutil.cpu_count(logical=True)\n",
    "except:\n",
    "    nproc = os.cpu_count()\n",
    "\n",
    "print(\"Number of processors or cores available: \", nproc)\n"
   ]
  },
  {
   "cell_type": "markdown",
   "metadata": {},
   "source": [
    "### Create powder pattern object, index & fit profile\n",
    "Same as the cimetidine structure solution notebook, so read that for details"
   ]
  },
  {
   "cell_type": "code",
   "execution_count": null,
   "metadata": {
    "tags": []
   },
   "outputs": [],
   "source": [
    "p = PowderPattern()\n",
    "if not os.path.exists(\"cime.dat\"):\n",
    "    os.system(\"curl -O https://raw.githubusercontent.com/vincefn/objcryst/master/Fox/example/tutorial-cimetidine/cime.dat\")\n",
    "p.ImportPowderPatternFullprof(\"cime.dat\")\n",
    "p.SetWavelength(1.52904)\n",
    "\n",
    "# Index\n",
    "pl = p.FindPeaks(1.5, -1, 1000, verbose=False)\n",
    "if len(pl) > 20:\n",
    "    pl.resize(20)  # Only keep 20 peaks\n",
    "\n",
    "ex = quick_index(pl, verbose=False)\n",
    "\n",
    "print(\"Indexed unit cell:\")\n",
    "for s in ex.GetSolutions():\n",
    "    print(s)\n",
    "\n",
    "# Use solution to create a crystal\n",
    "uc = ex.GetSolutions()[0][0].DirectUnitCell()\n",
    "c = Crystal(uc[0], uc[1], uc[2], uc[3], uc[4], uc[5], \"P1\")\n",
    "pdiff = p.AddPowderPatternDiffraction(c)\n",
    "\n",
    "# Fit profile\n",
    "p.SetMaxSinThetaOvLambda(0.3)\n",
    "p.quick_fit_profile(auto_background=True,plot=False, init_profile=True,verbose=True)\n",
    "p.quick_fit_profile(plot=False, init_profile=False, asym=True, displ_transl=True, verbose=False)\n",
    "\n",
    "# Plot\n",
    "p.plot(diff=True, fig=None, hkl=True)\n",
    "print(\"Fit result: Rw=%6.2f%% Chi2=%10.2f  GoF=%8.2f  LLK=%10.3f\" %\n",
    "      (p.rw * 100, p.chi2, p.chi2/p.GetNbPointUsed(), p.llk))"
   ]
  },
  {
   "cell_type": "markdown",
   "metadata": {},
   "source": [
    "### Find the spacegroup\n",
    "We'll use part of the list of possible spacegroups as options to test"
   ]
  },
  {
   "cell_type": "code",
   "execution_count": null,
   "metadata": {
    "tags": []
   },
   "outputs": [],
   "source": [
    "p.SetMaxSinThetaOvLambda(0.2)  # Important for stability of profile fit. And faster !\n",
    "spgex = SpaceGroupExplorer(pdiff)\n",
    "\n",
    "# NB:verbose C++ output does not appear in a notebook\n",
    "spgex.RunAll(keep_best=True, update_display=False, fitprofile_p1=False)\n",
    "\n",
    "for sol in spgex.GetScores():\n",
    "    #if sol.nGoF > 4 * spgex.GetScores()[0].nGoF:\n",
    "    if sol.GoF <= 2 * spgex.GetScores()[0].GoF:\n",
    "        print(sol)\n",
    "\n",
    "print(\"Chosen spacegroup (smallest nGoF): \", c.GetSpaceGroup())\n"
   ]
  },
  {
   "cell_type": "markdown",
   "metadata": {},
   "source": [
    "### Setup the 'meta'-structure solution\n",
    "In the spacegroup search above the first solution `P 1 21/c 1` actually is the correct one, and with its multiplicity (4) only requires a single independent cimetidine molecule in the asymmetric unit cell. But let's proceed as if we did not actually know that.\n",
    "\n",
    "What we do is:\n",
    "* download the cimetidine z-matrix\n",
    "* create a list of the possible spacegroups that we want to test\n",
    "* create a function which, given a spacegroup, will :\n",
    "  * apply the spacegroup to the crystal\n",
    "  * determine the appropriate number of independent molecules (as a function of the multiplicity)\n",
    "  * optimise for 5 runs and 2 million trials\n",
    "  * return the solutions using the XML string of the Crystal\n",
    "* use `multiprocessing` or `multiprocess`  to test the different spacegroups in parallel with multiple processor cores\n",
    "\n",
    "Note: *this is a generic approach - it would be possible also to completely change the contents of the crystal, e.g. if the number of independent units (atoms, molecule, polyhedra) was unknown, as is often the case for inorganic or metallic structures due to special positions*"
   ]
  },
  {
   "cell_type": "code",
   "execution_count": null,
   "metadata": {
    "tags": []
   },
   "outputs": [],
   "source": [
    "# Get the cimetidine z-matrix\n",
    "if not os.path.exists(\"cime.fhz\"):\n",
    "    os.system(\"curl -O https://raw.githubusercontent.com/vincefn/objcryst/master/Fox/example/tutorial-cimetidine/cime.fhz\")\n",
    "\n",
    "# Disable dynamical occupancy correction (no special position expected, usual in organic structures)\n",
    "c.GetOption(1).SetChoice(0)\n",
    "\n",
    "# Create the Monte-Carlo object with the crystal and the powder pattern\n",
    "mc = MonteCarlo()\n",
    "mc.AddRefinableObj(c)\n",
    "mc.AddRefinableObj(p)\n",
    "mc.GetOption(\"Automatic Least Squares Refinement\").SetChoice(2)\n",
    "\n",
    "nb_step = 1e6  # Increase this for more complex problems - it's ok if the spacegroup is correct (1 independent molecule)\n",
    "\n",
    "# Disable profile fitting for the powder pattern (or nothing gets optimised !)\n",
    "pdiff.SetExtractionMode(False)\n",
    "\n",
    "\n",
    "def solve_for_spacegroup(spgname):\n",
    "    # Set spacegroup\n",
    "    spg = c.GetSpaceGroup()\n",
    "    spg.ChangeSpaceGroup(spgname)\n",
    "    \n",
    "    # Multiplicity\n",
    "    mult = spg.GetNbSymmetrics()\n",
    "    \n",
    "    # Empty Crystal of existing scatterers (should not be necessary here)\n",
    "    for i in range(c.GetNbScatterer()):\n",
    "        c.RemoveScatterer(c.GetScatterer(0))\n",
    "    \n",
    "    # Add 4/mult independent cimetidine molecules\n",
    "    nb_mol = 4//mult\n",
    "    for i in range(nb_mol):\n",
    "        m = ImportFenskeHallZMatrix(c,\"cime.fhz\")\n",
    "    \n",
    "    # Disable all display update if not in the Main process-or strange things happen !\n",
    "    if current_process().name != 'MainProcess':\n",
    "        # we must do that for the crystal, monte-carlo and powder pattern object\n",
    "        for o in (c, mc, p):\n",
    "            o.disable_display_update()\n",
    "    \n",
    "    # Run the parallel tempering optimisation\n",
    "    # We could run multiple times the optimisation (using nb_run), but it is more \n",
    "    # efficient to distribute that using the multiprocessing pool\n",
    "    nb_run = 1\n",
    "    t0 = timeit.default_timer()\n",
    "    for i in range(nb_run):\n",
    "        mc.MultiRunOptimize(nb_run=1, nb_step=nb_step)\n",
    "        dt = timeit.default_timer() - t0\n",
    "        print(\"Spacegroup: %12s LLK: %12.2f dt=%3.0fs\" %  # /run (%3.0fs remaining)\n",
    "              (spgname,mc.GetLogLikelihood(), dt,)) #  dt/(i+1) * (nb_run-i-1)\n",
    "    \n",
    "    # Extract all solutions as the XML output of the crystal\n",
    "    vsol = []\n",
    "    for i in range(mc.GetNbParamSet()-nb_run, mc.GetNbParamSet()):\n",
    "        mc.RestoreParamSet(i, update_display=False)\n",
    "        s = c.xml()\n",
    "        llk = mc.GetLogLikelihood()\n",
    "        vsol.append({'xml': s, 'llk': llk, 'spg': spgname, 'nb_mol': nb_mol})\n",
    "\n",
    "    return vsol\n"
   ]
  },
  {
   "cell_type": "markdown",
   "metadata": {},
   "source": [
    "Run the tests: **this will take a little while (5 to 20 minutes for each spacegroup, in parallel processes), and is longer for spacegroups with lower multiplicity and not centrosymmetric (more independant atoms)**."
   ]
  },
  {
   "cell_type": "code",
   "execution_count": null,
   "metadata": {
    "tags": []
   },
   "outputs": [],
   "source": [
    "# List of spacegroups to test (this can be larger than the number \n",
    "# of availabe processor cores, process will loop over possible spacegroups)\n",
    "v_spacegroup = [\"P 1 21/c 1\", \"P 1 2/c 1\", \"P 1 c 1\", \"P 1 21 1\",\n",
    "                \"P 1 2 1\", \"P 1 m 1\", \"P 1 21/m 1\", \"P -1\"] * 5\n",
    "\n",
    "# Use a multiprocess pool to solve in parallel - this should use all available processor cores\n",
    "print(\"Solving structures in // - this will take a little while, be patient !\")\n",
    "with Pool(nproc) as pool:\n",
    "    res = pool.map(solve_for_spacegroup, v_spacegroup)\n",
    "\n",
    "# Merge all the results\n",
    "vsol = []\n",
    "for v in res:\n",
    "    vsol += v\n"
   ]
  },
  {
   "cell_type": "markdown",
   "metadata": {},
   "source": [
    "### Look at solutions\n",
    "If you have ipywidgets, just use the dropdown menu to select available solutions"
   ]
  },
  {
   "cell_type": "code",
   "execution_count": null,
   "metadata": {
    "tags": []
   },
   "outputs": [],
   "source": [
    "# restore the best solution (first in list)\n",
    "c.XMLInput(vsol[0]['xml'])\n",
    "\n",
    "# sort solutions as a function of the log-likelihood\n",
    "vsol = sorted(vsol, key=lambda sol: sol['llk'])\n",
    "\n",
    "if widgets is not None:\n",
    "    v = []\n",
    "    for i in range(len(vsol)):\n",
    "        sol = vsol[i]\n",
    "        v.append(\"#%2d  %12s : %d mol LLK=%12.2f\"%(i, sol['spg'], sol['nb_mol'], sol['llk']))\n",
    "    w = widgets.Dropdown(options=v, description='Solutions:', disabled=False,)\n",
    "    def show_solution(solution):\n",
    "        i = v.index(solution)\n",
    "        # Crystal display is automatically updated when loaded\n",
    "        c.XMLInput(vsol[i]['xml'])\n",
    "        # Update powder pattern display manually\n",
    "        p.FitScaleFactorForIntegratedRw()\n",
    "        p.UpdateDisplay()\n",
    "    widgets.interact(show_solution, solution=v)\n",
    "else:\n",
    "    # print solutions\n",
    "    for i in range(len(vsol)):\n",
    "        sol = vsol[i]\n",
    "        print(\"#%2d  %12s : %d mol LLK=%12.2f\"%(i, sol['spg'], sol['nb_mol'], sol['llk']))\n",
    "\n",
    "# displays - requires ipywidgets for crystal 3D display\n",
    "display(c.widget_3d())\n",
    "p.plot(fig=None,diff=True,hkl=True)\n"
   ]
  },
  {
   "cell_type": "markdown",
   "metadata": {},
   "source": [
    "### Try some other solutions\n",
    "If ipywidgets is not shown in the previous cell, load solutions manually"
   ]
  },
  {
   "cell_type": "code",
   "execution_count": null,
   "metadata": {
    "tags": []
   },
   "outputs": [],
   "source": [
    "# Crystal display is automatically updated when loaded\n",
    "c.XMLInput(vsol[2]['xml'])\n",
    "# Update powder pattern display manually\n",
    "p.UpdateDisplay()"
   ]
  },
  {
   "cell_type": "markdown",
   "metadata": {},
   "source": [
    "### Save the selected result to CIF and Fox (.xmlgz) formats\n",
    "All the solutions (or just the best ones) could be saved automatically that way by looping over the results"
   ]
  },
  {
   "cell_type": "code",
   "execution_count": null,
   "metadata": {
    "tags": []
   },
   "outputs": [],
   "source": [
    "# Save result so it can be opened by Fox\n",
    "xml_cryst_file_save_global('result.xmlgz')\n",
    "# Also export to the CIF format\n",
    "c.CIFOutput(\"result.cif\")"
   ]
  },
  {
   "cell_type": "code",
   "execution_count": null,
   "metadata": {},
   "outputs": [],
   "source": []
  }
 ],
 "metadata": {
  "kernelspec": {
   "display_name": "Python 3 (ipykernel)",
   "language": "python",
   "name": "python3"
  },
  "language_info": {
   "codemirror_mode": {
    "name": "ipython",
    "version": 3
   },
   "file_extension": ".py",
   "mimetype": "text/x-python",
   "name": "python",
   "nbconvert_exporter": "python",
   "pygments_lexer": "ipython3",
   "version": "3.12.3"
  }
 },
 "nbformat": 4,
 "nbformat_minor": 4
}
