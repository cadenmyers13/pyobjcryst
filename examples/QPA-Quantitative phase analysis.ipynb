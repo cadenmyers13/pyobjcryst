{
 "cells": [
  {
   "cell_type": "markdown",
   "id": "0",
   "metadata": {},
   "source": [
    "## Quantitative phase analysis (QPA)\n",
    "Fox/ObjCryst++ was not designed with QPA in mind, but it\n",
    "is still possible to do it when the phases are known\n",
    "and the profiles not too complicated.\n",
    "\n",
    "Here we just try the 'simple' cases of the QPA Round Robin of\n",
    "1999 (https://www.iucr.org/__data/iucr/powder/QARR/index.html)"
   ]
  },
  {
   "cell_type": "code",
   "execution_count": null,
   "id": "1",
   "metadata": {},
   "outputs": [],
   "source": [
    "# 'widget' allows live update and works in both classical notebooks and jupyter-lab.\n",
    "# Otherwise 'notebook', 'ipympl', 'inline' can be used\n",
    "%matplotlib widget\n",
    "\n",
    "import os\n",
    "import pyobjcryst\n",
    "import numpy as np\n",
    "import matplotlib.pyplot as plt\n",
    "from pyobjcryst.crystal import *\n",
    "from pyobjcryst.powderpattern import *\n",
    "from pyobjcryst.indexing import *\n",
    "from pyobjcryst.molecule import *\n",
    "from pyobjcryst.globaloptim import MonteCarlo\n",
    "from pyobjcryst.io import xml_cryst_file_save_global\n",
    "from pyobjcryst.lsq import LSQ\n",
    "from pyobjcryst.refinableobj import refpartype_scattdata_scale"
   ]
  },
  {
   "cell_type": "markdown",
   "id": "2",
   "metadata": {},
   "source": [
    "### Data and CIF sources"
   ]
  },
  {
   "cell_type": "code",
   "execution_count": null,
   "id": "3",
   "metadata": {},
   "outputs": [],
   "source": [
    "# Data from QPA round-robin\n",
    "# https://www.iucr.org/__data/iucr/powder/QARR/samples.htm\n",
    "#  & Crystal structures from the Crystallography Open Database\n",
    "# Try samples 1a to 1h\n",
    "data_file = \"cpd-1h.prn\"\n",
    "cod_phases = [1000032, 9008877, 5000222] # Al2O3, ZnO, CaF2 - needs checking"
   ]
  },
  {
   "cell_type": "markdown",
   "id": "4",
   "metadata": {},
   "source": [
    "### Create Powder pattern"
   ]
  },
  {
   "cell_type": "code",
   "execution_count": null,
   "id": "5",
   "metadata": {},
   "outputs": [],
   "source": [
    "p = PowderPattern()\n",
    "if not os.path.exists(data_file):\n",
    "    os.system(\"curl -O https://www.iucr.org/__data/iucr/powder/QARR/col/%s\" % data_file)\n",
    "\n",
    "p.ImportPowderPattern2ThetaObs(data_file)\n",
    "# Copper K-alpha1+alpha2. Use \"Cua1\" for Cu-alpha1 only\n",
    "p.SetWavelength(\"Cu\")\n",
    "print(p.GetWavelength())\n",
    "\n",
    "p.plot(hkl=True)"
   ]
  },
  {
   "cell_type": "markdown",
   "id": "6",
   "metadata": {},
   "source": [
    "### Add crystalline phases\n",
    "We assume all structures are known.\n",
    "\n",
    "This will update the above plot, though the scales will be incorrect."
   ]
  },
  {
   "cell_type": "code",
   "execution_count": null,
   "id": "7",
   "metadata": {},
   "outputs": [],
   "source": [
    "for cod_id in cod_phases:\n",
    "    c = CreateCrystalFromCIF(\"http://crystallography.net/cod/%d.cif\" % cod_id)\n",
    "    #print(c,\"\\n\")\n",
    "    p.AddPowderPatternDiffraction(c)\n",
    "\n",
    "p.FitScaleFactorForRw()\n",
    "p.UpdateDisplay()"
   ]
  },
  {
   "cell_type": "markdown",
   "id": "8",
   "metadata": {},
   "source": [
    "### Add an automatic background\n",
    "This uses a Bayesian estimation of the background, which should be\n",
    "good enough if there is a good separation of the peaks"
   ]
  },
  {
   "cell_type": "code",
   "execution_count": null,
   "id": "9",
   "metadata": {},
   "outputs": [],
   "source": [
    "# Add background if necessary\n",
    "need_background = True\n",
    "for i in range(p.GetNbPowderPatternComponent()):\n",
    "    if isinstance(p.GetPowderPatternComponent(i), PowderPatternBackground):\n",
    "        need_background = False\n",
    "        break\n",
    "if need_background:\n",
    "    print(\"No background, adding one automatically\")\n",
    "    x = p.GetPowderPatternX()\n",
    "    bx = np.linspace(x.min(), x.max(), 30)  # Number of interpolation points\n",
    "    by = np.zeros(bx.shape)\n",
    "    b = p.AddPowderPatternBackground()\n",
    "    b.SetInterpPoints(bx, by)\n",
    "    # b.Print()\n",
    "    b.UnFixAllPar()\n",
    "    b.OptimizeBayesianBackground()\n",
    "p.UpdateDisplay()"
   ]
  },
  {
   "cell_type": "markdown",
   "id": "10",
   "metadata": {},
   "source": [
    "### Fit profile, step 1\n",
    "Conservative fit, starting with a fixed width (W=1e-5) \n",
    "\n",
    "Note that as we know the crystalline structures, we don't need to perform a Le Bail fit"
   ]
  },
  {
   "cell_type": "code",
   "execution_count": null,
   "id": "11",
   "metadata": {},
   "outputs": [],
   "source": [
    "# Multiple phases, so can't use quick_fit_profile\n",
    "#\n",
    "# NOTE: we don't use this function as the phases are known, but that's the way\n",
    "# to do it with multiple crystalline phases\n",
    "def do_lebail(init=False):\n",
    "    \"\"\"\n",
    "    This performs a Le Bail fit by looping over all phases,\n",
    "    one at a time. Le Bail is disabled on output\n",
    "    \"\"\"\n",
    "    for i in range(20):\n",
    "        for i in range(p.GetNbPowderPatternComponent()):\n",
    "            pdiff = p.GetPowderPatternComponent(i)\n",
    "            if not isinstance(pdiff, PowderPatternDiffraction):\n",
    "                continue\n",
    "            if i==0 or init:\n",
    "                pdiff.SetExtractionMode(True, True)\n",
    "            else:\n",
    "                pdiff.SetExtractionMode(True, False)\n",
    "            pdiff.ExtractLeBail(1)\n",
    "            pdiff.SetExtractionMode(False, False)\n"
   ]
  },
  {
   "cell_type": "code",
   "execution_count": null,
   "id": "12",
   "metadata": {},
   "outputs": [],
   "source": [
    "for i in range(p.GetNbPowderPatternComponent()):\n",
    "    pdiff = p.GetPowderPatternComponent(i)\n",
    "    if not isinstance(pdiff, PowderPatternDiffraction):\n",
    "        continue\n",
    "    pdiff.SetReflectionProfilePar(ReflectionProfileType.PROFILE_PSEUDO_VOIGT, 0.00001)\n",
    "\n",
    "p.UpdateDisplay()\n"
   ]
  },
  {
   "cell_type": "markdown",
   "id": "13",
   "metadata": {},
   "source": [
    "### Fit profile, step 2\n",
    "Refine only constant width, zero, Eta Gaussian/Voigt mix, and a, b, c parameters "
   ]
  },
  {
   "cell_type": "code",
   "execution_count": null,
   "id": "14",
   "metadata": {},
   "outputs": [],
   "source": [
    "lsq = LSQ()\n",
    "lsq.SetRefinedObj(p, 0, True, True)\n",
    "lsq.PrepareRefParList(True)\n",
    "# lsq.GetCompiledRefinedObj().Print()\n",
    "lsqr = lsq.GetCompiledRefinedObj()\n",
    "\n",
    "lsqr.FixAllPar()\n",
    "# lsqr.Print()\n",
    "# print(lsq.ChiSquare())\n",
    "lsq.SetParIsFixed(refpartype_scattdata_scale, False)\n",
    "for par in [\"W\", \"Zero\", \"Eta0\", \"a\", \"b\", \"c\"]:\n",
    "    for i in range(p.GetNbPowderPatternComponent()):\n",
    "        # This is a KLUDGE - we need this because parameter names are\n",
    "        # unique, and thus \"U\" gets renamed to \"U~\", \"U~~\" in case of 2,3 phases.. \n",
    "        lsq.SetParIsFixed(par + \"~\"*i, False)\n",
    "lsq.SafeRefine(nbCycle=10, useLevenbergMarquardt=True, silent=True)\n",
    "\n",
    "p.UpdateDisplay()\n"
   ]
  },
  {
   "cell_type": "markdown",
   "id": "15",
   "metadata": {},
   "source": [
    "### Fit profile, final\n",
    "Refine more parameters, and fit the scale factor"
   ]
  },
  {
   "cell_type": "code",
   "execution_count": null,
   "id": "16",
   "metadata": {},
   "outputs": [],
   "source": [
    "lsqr.FixAllPar()\n",
    "# lsqr.Print()\n",
    "# print(lsq.ChiSquare())\n",
    "lsq.SetParIsFixed(refpartype_scattdata_scale, False)\n",
    "for par in [\"U\", \"V\", \"W\", \"Zero\", \"Eta0\", \"Eta1\", \"a\", \"b\", \"c\", \"2ThetaDispl\", \"2ThetaTransp\"]:\n",
    "    for i in range(p.GetNbPowderPatternComponent()):\n",
    "        # This is a KLUDGE - we need this because parameter names are\n",
    "        # unique, and thus \"U\" gets renamed to \"U~\", \"U~~\" in case of 2,3 phases.. \n",
    "        lsq.SetParIsFixed(par + \"~\"*i, False)\n",
    "lsq.SafeRefine(nbCycle=10, useLevenbergMarquardt=True, silent=True)\n",
    "\n",
    "p.FitScaleFactorForRw()\n",
    "p.UpdateDisplay()\n"
   ]
  },
  {
   "cell_type": "markdown",
   "id": "17",
   "metadata": {},
   "source": [
    "### Compute weight percentages\n",
    "This uses the formula: \n",
    "$w_i = \\frac{S_iZ_iM_iV_i}{\\Sigma_iS_iZ_iM_iV_i}$\n",
    "\n",
    "where:\n",
    "* $w_i$ is the weight fraction of crystalline phase i\n",
    "* $S_i$ its scale factor in the Rietveld refinement\n",
    "* $Z_i$ the multiplicity of the formula in the unit cell\n",
    "* $M_i$ the crystal formula's molecular weight\n",
    "* $V_i$ the unit cell volume for the phase\n",
    "\n",
    "This assumes that the structure is known (and thus that the\n",
    "CIF files are correct), and that we know all present phases.\n",
    "\n",
    "The obtained numbers can be compared to:\n",
    "https://www.iucr.org/__data/iucr/powder/QARR/results.htm"
   ]
  },
  {
   "cell_type": "code",
   "execution_count": null,
   "id": "18",
   "metadata": {},
   "outputs": [],
   "source": [
    "# TODO: check if the method is correctly applied, notably\n",
    "# is there a shortcut in ObjCryst++ so that the calculated\n",
    "# structure factor sometimes skips a factor 2 (centrosymmetry\n",
    "# or other centering factors which allow to avoid a direct sum)\n",
    "\n",
    "w = p.qpa(verbose=True)"
   ]
  },
  {
   "cell_type": "code",
   "execution_count": null,
   "id": "19",
   "metadata": {},
   "outputs": [],
   "source": []
  }
 ],
 "metadata": {
  "kernelspec": {
   "display_name": "Python 3 (ipykernel)",
   "language": "python",
   "name": "python3"
  },
  "language_info": {
   "codemirror_mode": {
    "name": "ipython",
    "version": 3
   },
   "file_extension": ".py",
   "mimetype": "text/x-python",
   "name": "python",
   "nbconvert_exporter": "python",
   "pygments_lexer": "ipython3",
   "version": "3.12.3"
  }
 },
 "nbformat": 4,
 "nbformat_minor": 5
}
